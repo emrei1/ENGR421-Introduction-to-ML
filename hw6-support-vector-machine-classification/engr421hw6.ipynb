{
  "nbformat": 4,
  "nbformat_minor": 0,
  "metadata": {
    "colab": {
      "name": "engr421hw6.ipynb",
      "provenance": [],
      "collapsed_sections": []
    },
    "kernelspec": {
      "name": "python3",
      "display_name": "Python 3"
    },
    "language_info": {
      "name": "python"
    }
  },
  "cells": [
    {
      "cell_type": "code",
      "execution_count": null,
      "metadata": {
        "id": "dwmjETdsuVoO"
      },
      "outputs": [],
      "source": [
        "# import packages\n",
        "import numpy as np\n",
        "import cvxopt as cvx\n",
        "import matplotlib.pyplot as plt\n",
        "import pandas as pd"
      ]
    },
    {
      "cell_type": "code",
      "source": [
        "# import data\n",
        "data_set_X = np.genfromtxt(\"hw06_data_set_images.csv\", delimiter = \",\")\n",
        "data_set_y = np.genfromtxt(\"hw06_data_set_labels.csv\", delimiter = \",\")\n",
        "\n",
        "split_location = 1000\n",
        "\n",
        "train_set_X = data_set_X[0:split_location, :]\n",
        "train_set_y = data_set_y[0:split_location]\n",
        "test_set_X = data_set_X[split_location : len(data_set_X), :]\n",
        "test_set_y = data_set_y[split_location : len(data_set_y)]"
      ],
      "metadata": {
        "id": "w_GojJ78u_Ue"
      },
      "execution_count": null,
      "outputs": []
    },
    {
      "cell_type": "code",
      "source": [
        "# process data to get new X vectors\n",
        "bin_size = 4\n",
        "number_of_bins = 64\n",
        "\n",
        "max_pixel_intensity = 255;\n",
        "cols_train = len(train_set_X)\n",
        "cols_test = len(test_set_X)\n",
        "\n",
        "new_train_set_X = np.zeros((cols_train, number_of_bins))\n",
        "new_test_set_X = np.zeros((cols_test, number_of_bins))\n",
        "\n",
        "# retrieve new train set\n",
        "for i in range(len(new_train_set_X)):\n",
        "  item_i_train = train_set_X[i, :]\n",
        "  item_i_train = item_i_train.tolist()\n",
        "  for j in range(number_of_bins):\n",
        "    pixel_count_train = 0\n",
        "    for k in range(bin_size):\n",
        "      pixel_count_train += item_i_train.count(j * bin_size + k)\n",
        "    new_train_set_X[i, j] = pixel_count_train\n",
        "\n",
        "# retrieve new test set\n",
        "for i in range(len(new_test_set_X)):\n",
        "  item_i_test = test_set_X[i, :]\n",
        "  item_i_test = item_i_test.tolist()\n",
        "  for j in range(number_of_bins):\n",
        "    pixel_count_test = 0\n",
        "    for k in range(bin_size):\n",
        "      pixel_count_test += item_i_test.count(j * bin_size + k)\n",
        "    new_test_set_X[i, j] = pixel_count_test\n",
        "\n",
        "# adjust matrices according to their ratios of pixel occurances per bin to total pixels\n",
        "new_train_set_X = new_train_set_X / len(train_set_X[0, :])\n",
        "new_test_set_X = new_test_set_X / len(test_set_X[0, :])\n",
        "\n",
        "print(new_train_set_X[0:5, 0:5])\n",
        "print(new_test_set_X[0:5, 0:5])"
      ],
      "metadata": {
        "colab": {
          "base_uri": "https://localhost:8080/"
        },
        "id": "54fi4PMI1b69",
        "outputId": "a463bc19-5456-4f14-ed64-1876207ca529"
      },
      "execution_count": null,
      "outputs": [
        {
          "output_type": "stream",
          "name": "stdout",
          "text": [
            "[[0.86479592 0.00127551 0.         0.00255102 0.        ]\n",
            " [0.66836735 0.         0.00127551 0.00127551 0.        ]\n",
            " [0.66454082 0.00637755 0.00382653 0.00765306 0.00892857]\n",
            " [0.65816327 0.00765306 0.00892857 0.00127551 0.00382653]\n",
            " [0.5625     0.00255102 0.00255102 0.00127551 0.        ]]\n",
            "[[0.68239796 0.00255102 0.00127551 0.00127551 0.00127551]\n",
            " [0.69770408 0.01658163 0.00510204 0.00382653 0.01020408]\n",
            " [0.73341837 0.02678571 0.01530612 0.00510204 0.00637755]\n",
            " [0.63903061 0.00892857 0.00255102 0.00127551 0.        ]\n",
            " [0.75382653 0.00765306 0.00127551 0.00127551 0.        ]]\n"
          ]
        }
      ]
    },
    {
      "cell_type": "code",
      "source": [
        "# define method to retrieve kernel matrix for two input matrices\n",
        "def get_min_kernel(X1, X2):\n",
        "  N = len(train_set_X)\n",
        "  returned_matrix = np.zeros((N, N))\n",
        "\n",
        "  for i in range(N):\n",
        "    for j in range(N):\n",
        "      returned_matrix[i, j] = np.sum([min(X1[i, b], X2[j, b]) for b in range(number_of_bins)])\n",
        "\n",
        "  return returned_matrix"
      ],
      "metadata": {
        "id": "nFULT8VLHvrq"
      },
      "execution_count": null,
      "outputs": []
    },
    {
      "cell_type": "code",
      "source": [
        "# retrieve training and test Kernel matrices\n",
        "K_train = get_min_kernel(new_train_set_X, new_train_set_X)\n",
        "K_test = get_min_kernel(new_test_set_X, new_train_set_X)\n",
        "\n",
        "print(K_train[0:5, 0:5])\n",
        "print(K_test[0:5, 0:5])"
      ],
      "metadata": {
        "colab": {
          "base_uri": "https://localhost:8080/"
        },
        "id": "XccUmZ_kGekk",
        "outputId": "5f9bfee6-0488-4109-df2d-8b3e882e8a2e"
      },
      "execution_count": null,
      "outputs": [
        {
          "output_type": "stream",
          "name": "stdout",
          "text": [
            "[[1.         0.72321429 0.77040816 0.75382653 0.62755102]\n",
            " [0.72321429 1.         0.73086735 0.78571429 0.68622449]\n",
            " [0.77040816 0.73086735 1.         0.84056122 0.70153061]\n",
            " [0.75382653 0.78571429 0.84056122 1.         0.76403061]\n",
            " [0.62755102 0.68622449 0.70153061 0.76403061 1.        ]]\n",
            "[[0.77806122 0.80867347 0.82142857 0.88647959 0.79209184]\n",
            " [0.79464286 0.76403061 0.84566327 0.86607143 0.77933673]\n",
            " [0.8380102  0.74362245 0.85714286 0.83035714 0.68877551]\n",
            " [0.71556122 0.84438776 0.75       0.83418367 0.75765306]\n",
            " [0.84438776 0.76785714 0.82397959 0.84183673 0.73469388]]\n"
          ]
        }
      ]
    },
    {
      "cell_type": "code",
      "source": [
        "# retrieve model parameters from training kernel for regularization parameter C\n",
        "def get_alpha_and_w0(C_input):\n",
        "  returned = []\n",
        "\n",
        "  yyK = np.matmul(train_set_y[:, None], train_set_y[None, :]) * K_train\n",
        "\n",
        "  N_train = len(train_set_X)\n",
        "\n",
        "  C = C_input\n",
        "  epsilon = 0.001\n",
        "\n",
        "  # set parameters\n",
        "  P = cvx.matrix(yyK)\n",
        "  q = cvx.matrix(-np.ones((N_train, 1)))\n",
        "  G = cvx.matrix(np.vstack((-np.eye(N_train), np.eye(N_train))))\n",
        "  h = cvx.matrix(np.vstack((np.zeros((N_train, 1)), C * np.ones((N_train, 1)))))\n",
        "  A = cvx.matrix(1.0 * train_set_y[None,:])\n",
        "  b = cvx.matrix(0.0)\n",
        "                      \n",
        "  # use cvxopt library to solve QP problems\n",
        "  result = cvx.solvers.qp(P, q, G, h, A, b)\n",
        "  alpha = np.reshape(result[\"x\"], N_train)\n",
        "  alpha[alpha < C * epsilon] = 0\n",
        "  alpha[alpha > C * (1 - epsilon)] = C\n",
        "\n",
        "  # find bias parameter\n",
        "  support_indices, = np.where(alpha != 0)\n",
        "  active_indices, = np.where(np.logical_and(alpha != 0, alpha < C))\n",
        "  w0 = np.mean(train_set_y[active_indices] * (1 - np.matmul(yyK[np.ix_(active_indices, support_indices)], alpha[support_indices])))\n",
        "\n",
        "  returned = [alpha, w0]\n",
        "  return returned"
      ],
      "metadata": {
        "id": "NkDUO2RSkdVg"
      },
      "execution_count": null,
      "outputs": []
    },
    {
      "cell_type": "code",
      "source": [
        "# calculate predictions on training and test samples for C = 10\n",
        "result = get_alpha_and_w0(10)\n",
        "alpha = result[0]\n",
        "w0 = result[1]\n",
        "\n",
        "N_train = len(train_set_X)\n",
        "N_test = len(test_set_X)\n",
        "\n",
        "f_predicted_train = np.matmul(K_train, train_set_y[:,None] * alpha[:,None]) + w0\n",
        "f_predicted_test = np.matmul(K_test, train_set_y[:,None] * alpha[:,None]) + w0\n",
        "\n",
        "# calculate confusion matrix\n",
        "y_predicted_train = 2 * (f_predicted_train > 0.0) - 1\n",
        "y_predicted_test = 2 * (f_predicted_test > 0.0) - 1\n",
        "confusion_matrix_train = pd.crosstab(np.reshape(y_predicted_train, N_train), train_set_y,\n",
        "                               rownames = [\"y_predicted\"], colnames = [\"y_train\"])\n",
        "confusion_matrix_test = pd.crosstab(np.reshape(y_predicted_test, N_test), test_set_y,\n",
        "                               rownames = [\"y_predicted\"], colnames = [\"y_train\"])\n",
        "\n",
        "print()\n",
        "print()\n",
        "print(confusion_matrix_train)\n",
        "print(confusion_matrix_test)"
      ],
      "metadata": {
        "colab": {
          "base_uri": "https://localhost:8080/"
        },
        "id": "z65loJXPV_w0",
        "outputId": "f6aeaac5-7cf5-4ef0-cc20-bc0fed850e15"
      },
      "execution_count": null,
      "outputs": [
        {
          "output_type": "stream",
          "name": "stdout",
          "text": [
            "     pcost       dcost       gap    pres   dres\n",
            " 0:  1.0887e+03 -6.1913e+04  1e+05  5e-01  5e-14\n",
            " 1:  1.2396e+03 -1.1654e+04  1e+04  5e-14  5e-14\n",
            " 2: -4.1568e+02 -3.9854e+03  4e+03  1e-14  5e-14\n",
            " 3: -8.3426e+02 -2.5760e+03  2e+03  2e-14  5e-14\n",
            " 4: -1.0562e+03 -1.7960e+03  7e+02  6e-14  6e-14\n",
            " 5: -1.2018e+03 -1.4485e+03  2e+02  8e-15  6e-14\n",
            " 6: -1.2586e+03 -1.3270e+03  7e+01  1e-13  6e-14\n",
            " 7: -1.2782e+03 -1.2901e+03  1e+01  4e-14  7e-14\n",
            " 8: -1.2826e+03 -1.2831e+03  5e-01  4e-15  7e-14\n",
            " 9: -1.2828e+03 -1.2828e+03  1e-02  3e-14  7e-14\n",
            "10: -1.2828e+03 -1.2828e+03  2e-04  1e-13  7e-14\n",
            "Optimal solution found.\n",
            "\n",
            "\n",
            "y_train      -1.0   1.0\n",
            "y_predicted            \n",
            "-1            484     9\n",
            " 1              9   498\n",
            "y_train      -1.0   1.0\n",
            "y_predicted            \n",
            "-1            466    25\n",
            " 1             37   472\n"
          ]
        }
      ]
    },
    {
      "cell_type": "code",
      "source": [
        "# test different models based on different regularization parameters, illustrate results\n",
        "C_values = [10**-1, 10**-0.5, 10**0, 10**0.5, 10**1, 10**1.5, 10**2, 10**2.5, 10**3]\n",
        "result_ratios_train = []\n",
        "result_ratios_test = []\n",
        "\n",
        "for i in range(len(C_values)):\n",
        "  result = get_alpha_and_w0(C_values[i])\n",
        "  alpha = result[0]\n",
        "  w0 = result[1]\n",
        "\n",
        "  f_predicted_train = np.matmul(K_train, train_set_y[:,None] * alpha[:,None]) + w0\n",
        "  f_predicted_test = np.matmul(K_test, train_set_y[:,None] * alpha[:,None]) + w0\n",
        "\n",
        "  y_predicted_train = 2 * (f_predicted_train > 0.0) - 1\n",
        "  y_predicted_test = 2 * (f_predicted_test > 0.0) - 1\n",
        "\n",
        "  count_equal_train = np.sum(np.reshape(y_predicted_train, N_train) == train_set_y)\n",
        "  count_equal_test = np.sum(np.reshape(y_predicted_test, N_test) == test_set_y)\n",
        "\n",
        "  ratio_train = count_equal_train / len(y_predicted_train)\n",
        "  ratio_test = count_equal_test / len(y_predicted_test)\n",
        "\n",
        "  result_ratios_train.append(ratio_train)\n",
        "  result_ratios_test.append(ratio_test)\n",
        "\n",
        "print()\n",
        "print()\n",
        "print()\n",
        "\n",
        "# plot results\n",
        "plt.figure(figsize = (10, 4))\n",
        "plt.plot(C_values, result_ratios_train, \"b.\", markersize = 12, label = 'training')\n",
        "plt.plot(C_values, result_ratios_test, \"r.\", markersize = 12, label = 'test')\n",
        "plt.ylabel('Accuracy')\n",
        "plt.xlabel('Regularization Parameter (C)')\n",
        "plt.semilogx(10)\n",
        "plt.ylim(0.84, 1.02)\n",
        "plt.legend()\n",
        "for b in range(len(result_ratios_train) - 1):\n",
        "  plt.plot([C_values[b], C_values[b + 1]], [result_ratios_train[b], result_ratios_train[b + 1]], color = 'blue')\n",
        "for b in range(len(result_ratios_test) - 1):\n",
        "  plt.plot([C_values[b], C_values[b + 1]], [result_ratios_test[b], result_ratios_test[b + 1]], color = 'red')"
      ],
      "metadata": {
        "colab": {
          "base_uri": "https://localhost:8080/",
          "height": 1000
        },
        "id": "b-F4DtwIZ0ew",
        "outputId": "f41009d0-d9cc-4c8d-ad5b-9ce37ae30210"
      },
      "execution_count": null,
      "outputs": [
        {
          "output_type": "stream",
          "name": "stdout",
          "text": [
            "     pcost       dcost       gap    pres   dres\n",
            " 0: -1.8751e+02 -2.4438e+02  7e+03  3e+01  5e-15\n",
            " 1: -6.2127e+01 -2.2353e+02  5e+02  1e+00  5e-15\n",
            " 2: -4.8341e+01 -1.2857e+02  8e+01  7e-16  1e-15\n",
            " 3: -5.3798e+01 -6.6369e+01  1e+01  2e-16  1e-15\n",
            " 4: -5.7212e+01 -6.1182e+01  4e+00  9e-16  1e-15\n",
            " 5: -5.8516e+01 -5.9343e+01  8e-01  6e-16  1e-15\n",
            " 6: -5.8814e+01 -5.8991e+01  2e-01  5e-16  1e-15\n",
            " 7: -5.8883e+01 -5.8910e+01  3e-02  1e-15  1e-15\n",
            " 8: -5.8895e+01 -5.8897e+01  2e-03  2e-15  1e-15\n",
            " 9: -5.8896e+01 -5.8896e+01  3e-05  1e-15  1e-15\n",
            "Optimal solution found.\n",
            "     pcost       dcost       gap    pres   dres\n",
            " 0: -2.1663e+02 -7.2291e+02  8e+03  8e+00  6e-15\n",
            " 1: -1.1031e+02 -6.1711e+02  7e+02  3e-01  5e-15\n",
            " 2: -1.1254e+02 -1.8088e+02  7e+01  1e-02  2e-15\n",
            " 3: -1.2553e+02 -1.5831e+02  3e+01  5e-03  3e-15\n",
            " 4: -1.3428e+02 -1.4269e+02  9e+00  1e-03  3e-15\n",
            " 5: -1.3682e+02 -1.3946e+02  3e+00  2e-04  4e-15\n",
            " 6: -1.3789e+02 -1.3812e+02  2e-01  3e-06  4e-15\n",
            " 7: -1.3799e+02 -1.3800e+02  8e-03  8e-08  4e-15\n",
            " 8: -1.3799e+02 -1.3799e+02  2e-04  2e-09  4e-15\n",
            " 9: -1.3799e+02 -1.3799e+02  6e-06  4e-11  4e-15\n",
            "Optimal solution found.\n",
            "     pcost       dcost       gap    pres   dres\n",
            " 0: -2.9195e+02 -2.3170e+03  1e+04  3e+00  1e-14\n",
            " 1: -2.0833e+02 -1.4682e+03  2e+03  1e-01  8e-15\n",
            " 2: -2.3783e+02 -5.1959e+02  3e+02  2e-02  6e-15\n",
            " 3: -2.7877e+02 -3.6235e+02  9e+01  5e-03  8e-15\n",
            " 4: -2.9498e+02 -3.3365e+02  4e+01  2e-03  8e-15\n",
            " 5: -3.0553e+02 -3.1419e+02  9e+00  3e-04  9e-15\n",
            " 6: -3.0853e+02 -3.0943e+02  9e-01  1e-05  9e-15\n",
            " 7: -3.0888e+02 -3.0894e+02  6e-02  8e-07  1e-14\n",
            " 8: -3.0891e+02 -3.0891e+02  2e-03  2e-08  1e-14\n",
            " 9: -3.0891e+02 -3.0891e+02  8e-05  6e-10  1e-14\n",
            "Optimal solution found.\n",
            "     pcost       dcost       gap    pres   dres\n",
            " 0: -3.6264e+02 -9.4514e+03  2e+04  9e-01  2e-14\n",
            " 1: -2.2721e+02 -3.1424e+03  3e+03  4e-15  2e-14\n",
            " 2: -4.4950e+02 -1.2403e+03  8e+02  6e-15  2e-14\n",
            " 3: -5.5393e+02 -8.6102e+02  3e+02  2e-14  2e-14\n",
            " 4: -6.0205e+02 -7.4754e+02  1e+02  1e-15  2e-14\n",
            " 5: -6.3137e+02 -6.7923e+02  5e+01  6e-15  2e-14\n",
            " 6: -6.4327e+02 -6.5534e+02  1e+01  2e-14  2e-14\n",
            " 7: -6.4710e+02 -6.4838e+02  1e+00  2e-14  2e-14\n",
            " 8: -6.4763e+02 -6.4767e+02  4e-02  2e-14  2e-14\n",
            " 9: -6.4765e+02 -6.4765e+02  1e-03  2e-15  2e-14\n",
            "10: -6.4765e+02 -6.4765e+02  4e-05  7e-15  2e-14\n",
            "Optimal solution found.\n",
            "     pcost       dcost       gap    pres   dres\n",
            " 0:  1.0887e+03 -6.1913e+04  1e+05  5e-01  5e-14\n",
            " 1:  1.2396e+03 -1.1654e+04  1e+04  5e-14  5e-14\n",
            " 2: -4.1568e+02 -3.9854e+03  4e+03  1e-14  5e-14\n",
            " 3: -8.3426e+02 -2.5760e+03  2e+03  2e-14  5e-14\n",
            " 4: -1.0562e+03 -1.7960e+03  7e+02  6e-14  6e-14\n",
            " 5: -1.2018e+03 -1.4485e+03  2e+02  8e-15  6e-14\n",
            " 6: -1.2586e+03 -1.3270e+03  7e+01  1e-13  6e-14\n",
            " 7: -1.2782e+03 -1.2901e+03  1e+01  4e-14  7e-14\n",
            " 8: -1.2826e+03 -1.2831e+03  5e-01  4e-15  7e-14\n",
            " 9: -1.2828e+03 -1.2828e+03  1e-02  3e-14  7e-14\n",
            "10: -1.2828e+03 -1.2828e+03  2e-04  1e-13  7e-14\n",
            "Optimal solution found.\n",
            "     pcost       dcost       gap    pres   dres\n",
            " 0:  2.2427e+04 -5.1656e+05  1e+06  4e-01  2e-13\n",
            " 1:  1.8996e+04 -7.1786e+04  9e+04  4e-03  1e-13\n",
            " 2:  2.9639e+03 -1.8354e+04  2e+04  5e-04  1e-13\n",
            " 3: -7.2446e+02 -6.1810e+03  5e+03  4e-05  1e-13\n",
            " 4: -1.4993e+03 -3.5173e+03  2e+03  7e-06  1e-13\n",
            " 5: -1.8750e+03 -2.5457e+03  7e+02  5e-07  2e-13\n",
            " 6: -2.0021e+03 -2.2236e+03  2e+02  1e-13  2e-13\n",
            " 7: -2.0578e+03 -2.0873e+03  3e+01  3e-14  2e-13\n",
            " 8: -2.0671e+03 -2.0686e+03  2e+00  2e-13  2e-13\n",
            " 9: -2.0676e+03 -2.0677e+03  5e-02  4e-14  2e-13\n",
            "10: -2.0676e+03 -2.0676e+03  1e-03  3e-13  2e-13\n",
            "Optimal solution found.\n",
            "     pcost       dcost       gap    pres   dres\n",
            " 0:  2.5739e+05 -4.8418e+06  9e+06  4e-01  5e-13\n",
            " 1:  2.0578e+05 -6.4991e+05  9e+05  9e-03  4e-13\n",
            " 2:  4.8818e+04 -1.5762e+05  2e+05  1e-03  4e-13\n",
            " 3:  1.1116e+04 -5.4314e+04  7e+04  1e-04  3e-13\n",
            " 4:  2.2378e+03 -2.2886e+04  3e+04  1e-05  2e-13\n",
            " 5: -6.1288e+02 -9.7518e+03  9e+03  1e-15  2e-13\n",
            " 6: -1.5849e+03 -4.4760e+03  3e+03  8e-15  2e-13\n",
            " 7: -1.9770e+03 -3.0466e+03  1e+03  1e-13  2e-13\n",
            " 8: -2.1693e+03 -2.4629e+03  3e+02  5e-14  2e-13\n",
            " 9: -2.2408e+03 -2.2803e+03  4e+01  2e-13  2e-13\n",
            "10: -2.2531e+03 -2.2544e+03  1e+00  5e-14  2e-13\n",
            "11: -2.2536e+03 -2.2536e+03  3e-02  6e-14  2e-13\n",
            "12: -2.2536e+03 -2.2536e+03  6e-04  9e-14  2e-13\n",
            "Optimal solution found.\n",
            "     pcost       dcost       gap    pres   dres\n",
            " 0:  2.6753e+06 -4.7394e+07  9e+07  3e-01  2e-12\n",
            " 1:  2.1024e+06 -6.2790e+06  9e+06  1e-02  2e-12\n",
            " 2:  5.5668e+05 -1.5726e+06  2e+06  2e-03  1e-12\n",
            " 3:  1.6775e+05 -5.6539e+05  7e+05  2e-04  9e-13\n",
            " 4:  5.6989e+04 -2.3425e+05  3e+05  3e-05  6e-13\n",
            " 5:  2.2605e+04 -1.1536e+05  1e+05  6e-06  5e-13\n",
            " 6:  6.1357e+03 -4.1607e+04  5e+04  3e-13  3e-13\n",
            " 7: -6.9081e+02 -5.6641e+03  5e+03  1e-14  2e-13\n",
            " 8: -1.5711e+03 -3.5895e+03  2e+03  2e-13  2e-13\n",
            " 9: -1.9642e+03 -2.8168e+03  9e+02  8e-14  2e-13\n",
            "10: -2.1616e+03 -2.4565e+03  3e+02  1e-13  2e-13\n",
            "11: -2.2401e+03 -2.2797e+03  4e+01  3e-15  2e-13\n",
            "12: -2.2531e+03 -2.2544e+03  1e+00  1e-13  2e-13\n",
            "13: -2.2536e+03 -2.2536e+03  4e-02  2e-15  2e-13\n",
            "14: -2.2536e+03 -2.2536e+03  7e-04  5e-14  2e-13\n",
            "Optimal solution found.\n",
            "     pcost       dcost       gap    pres   dres\n",
            " 0:  2.7070e+07 -4.7071e+08  9e+08  3e-01  5e-12\n",
            " 1:  2.1160e+07 -6.2089e+07  9e+07  1e-02  6e-12\n",
            " 2:  5.7745e+06 -1.5709e+07  2e+07  2e-03  4e-12\n",
            " 3:  1.8430e+06 -5.7124e+06  8e+06  3e-04  3e-12\n",
            " 4:  6.5556e+05 -2.3681e+06  3e+06  4e-05  2e-12\n",
            " 5:  2.9164e+05 -1.1938e+06  1e+06  9e-06  1e-12\n",
            " 6:  8.7209e+04 -3.5657e+05  4e+05  4e-13  1e-12\n",
            " 7:  1.1272e+04 -2.9885e+04  4e+04  4e-13  6e-13\n",
            " 8: -2.5169e+02 -5.1052e+03  5e+03  2e-13  3e-13\n",
            " 9: -1.4609e+03 -3.2539e+03  2e+03  2e-14  2e-13\n",
            "10: -1.9373e+03 -2.7402e+03  8e+02  7e-14  2e-13\n",
            "11: -2.1511e+03 -2.4735e+03  3e+02  8e-15  2e-13\n",
            "12: -2.2395e+03 -2.2804e+03  4e+01  2e-14  2e-13\n",
            "13: -2.2530e+03 -2.2545e+03  1e+00  5e-14  2e-13\n",
            "14: -2.2536e+03 -2.2536e+03  4e-02  2e-13  2e-13\n",
            "15: -2.2536e+03 -2.2536e+03  8e-04  2e-13  2e-13\n",
            "Optimal solution found.\n",
            "\n",
            "\n",
            "\n"
          ]
        },
        {
          "output_type": "display_data",
          "data": {
            "text/plain": [
              "<Figure size 720x288 with 1 Axes>"
            ],
            "image/png": "[encoded data removed]"
          },
          "metadata": {
            "needs_background": "light"
          }
        }
      ]
    }
  ]
}