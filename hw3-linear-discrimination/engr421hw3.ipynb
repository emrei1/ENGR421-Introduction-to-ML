{
  "nbformat": 4,
  "nbformat_minor": 0,
  "metadata": {
    "colab": {
      "name": "engr421hw3",
      "provenance": [],
      "collapsed_sections": []
    },
    "kernelspec": {
      "name": "python3",
      "display_name": "Python 3"
    },
    "language_info": {
      "name": "python"
    }
  },
  "cells": [
    {
      "cell_type": "code",
      "execution_count": null,
      "metadata": {
        "colab": {
          "base_uri": "https://localhost:8080/"
        },
        "id": "em6Vzsft1F1W",
        "outputId": "13add0f1-a719-4edc-bfdd-2367d41c85e5"
      },
      "outputs": [
        {
          "output_type": "stream",
          "name": "stderr",
          "text": [
            "/usr/local/lib/python3.7/dist-packages/IPython/core/interactiveshell.py:2822: PerformanceWarning: DataFrame is highly fragmented.  This is usually the result of calling `frame.insert` many times, which has poor performance.  Consider joining all columns at once using pd.concat(axis=1) instead.  To get a de-fragmented frame, use `newframe = frame.copy()`\n",
            "  if self.run_code(code, result):\n"
          ]
        }
      ],
      "source": [
        "import numpy as np\n",
        "import pandas as pd\n",
        "import matplotlib.pyplot as plt\n",
        "\n",
        "with open(\"hw03_data_set_images.csv\") as file1:\n",
        "  images_matrix = np.loadtxt(file1, delimiter=\",\")\n",
        "\n",
        "with open(\"hw03_data_set_labels.csv\") as file2:\n",
        "  labels_array = np.loadtxt(file2, delimiter=\",\")\n",
        "\n",
        "length = len(labels_array)\n",
        "\n",
        "training_size = 25;\n",
        "\n",
        "label1_size = 0;\n",
        "label2_size = 0;\n",
        "label3_size = 0;\n",
        "label4_size = 0;\n",
        "label5_size = 0;\n",
        "\n",
        "training_matrix = pd.DataFrame([])\n",
        "testing_matrix = pd.DataFrame([])\n",
        "labels_array_training = []\n",
        "labels_array_testing = []\n",
        "\n",
        "counter_training = 0\n",
        "counter_testing = 0;\n",
        "\n",
        "for i in range(length):\n",
        "  if labels_array[i] == 1.0:\n",
        "    if label1_size < training_size:\n",
        "      training_matrix.insert(counter_training, \"\", images_matrix[i, :], True)\n",
        "      labels_array_training.append(1.0)\n",
        "      counter_training += 1\n",
        "    else:\n",
        "      testing_matrix.insert(counter_testing, \"\", images_matrix[i, :], True)\n",
        "      labels_array_testing.append(1.0)\n",
        "      counter_testing += 1\n",
        "    label1_size += 1\n",
        "  if labels_array[i] == 2.0:\n",
        "    if label2_size < training_size:\n",
        "      training_matrix.insert(counter_training, \"\", images_matrix[i, :], True)\n",
        "      labels_array_training.append(2.0)\n",
        "      counter_training += 1\n",
        "    else:\n",
        "      testing_matrix.insert(counter_testing, \"\", images_matrix[i, :], True)\n",
        "      labels_array_testing.append(2.0)\n",
        "      counter_testing += 1\n",
        "    label2_size += 1\n",
        "  if labels_array[i] == 3.0:\n",
        "    if label3_size < training_size:\n",
        "      training_matrix.insert(counter_training, \"\", images_matrix[i, :], True)\n",
        "      labels_array_training.append(3.0)\n",
        "      counter_training += 1\n",
        "    else:\n",
        "      testing_matrix.insert(counter_testing, \"\", images_matrix[i, :], True)\n",
        "      labels_array_testing.append(3.0)\n",
        "      counter_testing += 1\n",
        "    label3_size += 1\n",
        "  if labels_array[i] == 4.0:\n",
        "    if label4_size < training_size:\n",
        "      training_matrix.insert(counter_training, \"\", images_matrix[i, :], True)\n",
        "      labels_array_training.append(4.0)\n",
        "      counter_training += 1\n",
        "    else:\n",
        "      testing_matrix.insert(counter_testing, \"\", images_matrix[i, :], True)\n",
        "      labels_array_testing.append(4.0)\n",
        "      counter_testing += 1\n",
        "    label4_size += 1\n",
        "  if labels_array[i] == 5.0:\n",
        "    if label5_size < training_size:\n",
        "      training_matrix.insert(counter_training, \"\", images_matrix[i, :], True)\n",
        "      labels_array_training.append(5.0)\n",
        "      counter_training += 1\n",
        "    else:\n",
        "      testing_matrix.insert(counter_testing, \"\", images_matrix[i, :], True)\n",
        "      labels_array_testing.append(5.0)\n",
        "      counter_testing += 1\n",
        "    label5_size += 1\n",
        "\n",
        "training_matrix = training_matrix.T.to_numpy()\n",
        "testing_matrix = testing_matrix.T.to_numpy()\n",
        "\n",
        "#print(training_matrix)\n",
        "#print(testing_matrix)\n",
        "#print(len(training_matrix[:, 0]))\n",
        "#print(len(testing_matrix[:, 0]))\n",
        "#print(labels_array_training)\n",
        "#print(labels_array_testing)"
      ]
    },
    {
      "cell_type": "code",
      "source": [
        "# define training parameters\n",
        "y_truth = np.array(labels_array_training).astype(int)\n",
        "K = np.max(y_truth).astype(int)\n",
        "N = len(training_matrix[:, 0])\n",
        "Y_truth = np.zeros((N, K)).astype(int)                   \n",
        "Y_truth[range(N), y_truth - 1] = 1"
      ],
      "metadata": {
        "id": "rdqt5dGI1vXh"
      },
      "execution_count": null,
      "outputs": []
    },
    {
      "cell_type": "code",
      "source": [
        "#sigmoid function\n",
        "def  sigmoid(X, w, w0):\n",
        "  return (1 / (1 + np.exp(-(np.matmul(X, w) + w0))))\n",
        "draw_seq = np.linspace(-10, +10, 2001)\n",
        "plt.figure(figsize = (8, 4))\n",
        "plt.plot(draw_seq, 1 / (1 + np.exp(-draw_seq)), \"r-\")\n",
        "plt.xlabel(\"$x$\")\n",
        "plt.ylabel(\"sigmoid($x$)\")\n",
        "plt.show()"
      ],
      "metadata": {
        "colab": {
          "base_uri": "https://localhost:8080/",
          "height": 279
        },
        "id": "P7CMuSzHroH6",
        "outputId": "b04ad6a9-dd5f-4eae-e3bd-e1542c60024e"
      },
      "execution_count": null,
      "outputs": [
        {
          "output_type": "display_data",
          "data": {
            "text/plain": [
              "<Figure size 576x288 with 1 Axes>"
            ],
            "image/png": "[encoded data removed]"
          },
          "metadata": {
            "needs_background": "light"
          }
        }
      ]
    },
    {
      "cell_type": "code",
      "source": [
        "#gradient function returns for w \n",
        "def gradient_w(X, Y_truth, Y_predicted):\n",
        "  sub = Y_truth - Y_predicted\n",
        "  first = np.multiply(sub, Y_predicted)\n",
        "  third = 1 - Y_predicted\n",
        "  second = np.multiply(first, third)\n",
        "  second = second.transpose()\n",
        "  final = np.matmul(second, training_matrix).transpose()\n",
        "  final = final * -1\n",
        "  return final"
      ],
      "metadata": {
        "id": "6-q-Lx5osFb4"
      },
      "execution_count": null,
      "outputs": []
    },
    {
      "cell_type": "code",
      "source": [
        "#gradient function returns for w0\n",
        "def gradient_w0(X, Y_truth, Y_predicted):\n",
        "  sub = Y_truth - Y_predicted\n",
        "  first = np.multiply(sub, Y_predicted)\n",
        "  third = 1 - Y_predicted\n",
        "  second = np.multiply(first, third)\n",
        "  second = second.transpose()\n",
        "  sum = np.asarray([np.sum(second[:, c] for c in range(K))])\n",
        "  sum = sum * -1\n",
        "  return sum\n"
      ],
      "metadata": {
        "id": "T0EcWK3vOQw4"
      },
      "execution_count": null,
      "outputs": []
    },
    {
      "cell_type": "code",
      "source": [
        "#set learning parameters\n",
        "eta = 0.001\n",
        "epsilon = 0.001"
      ],
      "metadata": {
        "id": "zZ0RVKJAVOYF"
      },
      "execution_count": null,
      "outputs": []
    },
    {
      "cell_type": "code",
      "source": [
        "#randomly initialize w and w0\n",
        "np.random.seed(421)\n",
        "w = np.random.uniform(low = -0.01, high = 0.01, size = (training_matrix.shape[1], 5))\n",
        "w0 = np.random.uniform(low = -0.01, high = 0.01, size = (1,5))"
      ],
      "metadata": {
        "id": "WG_GPVfYVhOD"
      },
      "execution_count": null,
      "outputs": []
    },
    {
      "cell_type": "code",
      "source": [
        "# learn w and w0 using gradient descent\n",
        "iteration = 1\n",
        "objective_values = []\n",
        "\n",
        "while True:\n",
        "  Y_predicted = sigmoid(training_matrix, w, w0)\n",
        "  error = 0.5*np.sum((Y_truth - Y_predicted)**2)\n",
        "  objective_values = np.append(objective_values, error)\n",
        "  W_old = w\n",
        "  w0_old = w0\n",
        "  w = w - eta * gradient_w(training_matrix, Y_truth, Y_predicted)\n",
        "  w0 = w0 - eta * gradient_w0(training_matrix, Y_truth, Y_predicted)\n",
        "  if np.sqrt(np.sum((w0 - w0_old))**2 + np.sum((w - W_old)**2)) < epsilon:\n",
        "    break\n",
        "  iteration = iteration + 1\n",
        "\n",
        "#print(w)\n",
        "#print(w0)\n",
        "#print(Y_predicted)"
      ],
      "metadata": {
        "colab": {
          "base_uri": "https://localhost:8080/"
        },
        "id": "64k5dkP9Ybos",
        "outputId": "6e2a2d91-deea-4bb2-f2bb-9573208986fc"
      },
      "execution_count": null,
      "outputs": [
        {
          "output_type": "stream",
          "name": "stderr",
          "text": [
            "/usr/local/lib/python3.7/dist-packages/ipykernel_launcher.py:8: DeprecationWarning: Calling np.sum(generator) is deprecated, and in the future will give a different result. Use np.sum(np.fromiter(generator)) or the python sum builtin instead.\n",
            "  \n"
          ]
        }
      ]
    },
    {
      "cell_type": "code",
      "source": [
        "# plot objective function during iterations\n",
        "plt.figure(figsize = (8, 4))\n",
        "plt.plot(range(1, iteration + 1), objective_values, \"k-\")\n",
        "plt.xlabel(\"Iteration\")\n",
        "plt.ylabel(\"Error\")\n",
        "plt.show()"
      ],
      "metadata": {
        "colab": {
          "base_uri": "https://localhost:8080/",
          "height": 280
        },
        "id": "EaVOKEDI2PX0",
        "outputId": "ac94e83b-ac9b-463c-ef6d-f616c2994d04"
      },
      "execution_count": null,
      "outputs": [
        {
          "output_type": "display_data",
          "data": {
            "text/plain": [
              "<Figure size 576x288 with 1 Axes>"
            ],
            "image/png": "[encoded data removed]"
          },
          "metadata": {
            "needs_background": "light"
          }
        }
      ]
    },
    {
      "cell_type": "code",
      "source": [
        "# calculate confusion matrix for training data\n",
        "y_predicted = np.argmax(Y_predicted, axis = 1) + 1\n",
        "confusion_matrix_training = pd.crosstab(y_predicted, y_truth, rownames = [\"y_pred\"], colnames = [\"y_truth\"])\n",
        "print(confusion_matrix_training)"
      ],
      "metadata": {
        "colab": {
          "base_uri": "https://localhost:8080/"
        },
        "id": "NQDFlzYd4cQG",
        "outputId": "180b8dbf-be43-4855-86c8-0cac4b38592c"
      },
      "execution_count": null,
      "outputs": [
        {
          "output_type": "stream",
          "name": "stdout",
          "text": [
            "y_truth   1   2   3   4   5\n",
            "y_pred                     \n",
            "1        25   0   0   0   0\n",
            "2         0  25   0   0   0\n",
            "3         0   0  25   0   0\n",
            "4         0   0   0  25   0\n",
            "5         0   0   0   0  25\n"
          ]
        }
      ]
    },
    {
      "cell_type": "code",
      "source": [
        "y_truth_testing = np.array(labels_array_testing).astype(int)\n",
        "N_test = len(testing_matrix[:, 0])\n",
        "Y_truth_testing = np.zeros((N_test, K)).astype(int)                   \n",
        "Y_truth_testing[range(N_test), y_truth_testing - 1] = 1"
      ],
      "metadata": {
        "id": "Jk68aR6_6cXO"
      },
      "execution_count": null,
      "outputs": []
    },
    {
      "cell_type": "code",
      "source": [
        "# calculate confusion matrix for testing data\n",
        "Y_predicted_test = sigmoid(testing_matrix, w, w0)\n",
        "y_predicted_test = np.argmax(Y_predicted_test, axis = 1) + 1\n",
        "confusion_matrix_testing = pd.crosstab(y_predicted_test, y_truth_testing, rownames = [\"y_pred\"], colnames = [\"y_truth\"])\n",
        "print(confusion_matrix_testing)"
      ],
      "metadata": {
        "colab": {
          "base_uri": "https://localhost:8080/"
        },
        "id": "Cu6L0dFC4ulz",
        "outputId": "8a24e91f-9356-42a0-c6f5-bb2325624297"
      },
      "execution_count": null,
      "outputs": [
        {
          "output_type": "stream",
          "name": "stdout",
          "text": [
            "y_truth   1   2   3   4   5\n",
            "y_pred                     \n",
            "1        13   1   0   0   0\n",
            "2         1  11   0   0   1\n",
            "3         0   0  14   0   0\n",
            "4         0   0   0  14   0\n",
            "5         0   2   0   0  13\n"
          ]
        }
      ]
    }
  ]
}