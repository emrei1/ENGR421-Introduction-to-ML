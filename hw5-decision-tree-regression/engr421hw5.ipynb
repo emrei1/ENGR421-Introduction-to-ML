{
  "nbformat": 4,
  "nbformat_minor": 0,
  "metadata": {
    "colab": {
      "name": "engr421hw5.ipynb",
      "provenance": [],
      "collapsed_sections": []
    },
    "kernelspec": {
      "name": "python3",
      "display_name": "Python 3"
    },
    "language_info": {
      "name": "python"
    }
  },
  "cells": [
    {
      "cell_type": "code",
      "execution_count": null,
      "metadata": {
        "id": "HDg__cFjUBc0"
      },
      "outputs": [],
      "source": [
        "# import packages\n",
        "\n",
        "import numpy as np\n",
        "import matplotlib.pyplot as plt\n",
        "import math"
      ]
    },
    {
      "cell_type": "code",
      "source": [
        "# retrieve training and testing data\n",
        "\n",
        "training_data_set = np.genfromtxt(\"hw05_data_set_train.csv\", delimiter = \",\")\n",
        "test_data_set = np.genfromtxt(\"hw05_data_set_test.csv\", delimiter = \",\")\n",
        "\n",
        "training_X = training_data_set[:, 0]\n",
        "training_y = training_data_set[:, 1]\n",
        "\n",
        "test_X = test_data_set[:, 0]\n",
        "test_y = test_data_set[:, 1]\n",
        "\n",
        "N_train = training_X.shape[0]"
      ],
      "metadata": {
        "id": "6Hz0ELGwUP1b"
      },
      "execution_count": null,
      "outputs": []
    },
    {
      "cell_type": "code",
      "source": [
        "# learning algorithm\n",
        "\n",
        "def learning_algorithm(P):\n",
        "  # initialize data structures\n",
        "  node_indices = {}\n",
        "  is_terminal = {}\n",
        "  need_split = {}\n",
        "  node_features = {}\n",
        "  node_splits = {}\n",
        "  node_frequencies = {}\n",
        "\n",
        "  # put all training instances into the root node\n",
        "  node_indices[1] = np.array(range(N_train))\n",
        "  need_split[1] = True\n",
        "  returned_split_values = []\n",
        "\n",
        "  while True:\n",
        "    split_nodes = [key for key, value in need_split.items() if value == True]\n",
        "    if len(split_nodes) == 0:\n",
        "      break\n",
        "\n",
        "    # finding best split for each splitting node\n",
        "    for split_node in split_nodes:\n",
        "      data_indices = node_indices[split_node]\n",
        "      need_split[split_node] = False\n",
        "\n",
        "      # if length of nodes in split is less than P, stop\n",
        "      if len(data_indices) > P:\n",
        "        best_score = 0.0\n",
        "        best_split = 0.0\n",
        "        unique_values = np.sort(np.unique(training_X[data_indices]))\n",
        "        split_positions = (unique_values[1:len(unique_values)] + \\\n",
        "                                    unique_values[0:(len(unique_values) - 1)]) / 2\n",
        "        split_scores = np.repeat(0.0, len(split_positions))\n",
        "\n",
        "        # find best split among each split position\n",
        "        for s in range(len(split_positions)):\n",
        "          this_split_score = 0\n",
        "          left_indices = data_indices[training_X[data_indices] > \\\n",
        "                        split_positions[s]]\n",
        "          right_indices = data_indices[training_X[data_indices] <= \\\n",
        "                          split_positions[s]]\n",
        "\n",
        "          left_predicted = np.sum(training_y[left_indices]) / len(left_indices)\n",
        "          right_predicted = np.sum(training_y[right_indices]) / len(right_indices) \n",
        "          left_y = training_y[left_indices]\n",
        "          right_y = training_y[right_indices]\n",
        "          this_sum = 0\n",
        "\n",
        "          for i in range(len(left_indices)):\n",
        "            this_sum += (left_y[i] - left_predicted)**2\n",
        "          for i in range(len(right_indices)):\n",
        "            this_sum += (right_y[i] - right_predicted)**2\n",
        "\n",
        "          this_split_score = this_sum / (len(left_indices) + len(right_indices))\n",
        "          split_scores[s] = this_split_score\n",
        "\n",
        "        best_score = np.min(split_scores)\n",
        "        best_split = split_positions[np.argmin(split_scores)]\n",
        "        returned_split_values.append(best_split)\n",
        "\n",
        "        # create left node using the selected split\n",
        "        left_indices = data_indices[training_X[data_indices] > \\\n",
        "                      best_split]\n",
        "        node_indices[2 * split_node] = left_indices\n",
        "        need_split[2 * split_node] = True\n",
        "\n",
        "        # create right node using the selected split\n",
        "        right_indices = data_indices[training_X[data_indices] <= \\\n",
        "                      best_split]\n",
        "        node_indices[2 * split_node + 1] = right_indices\n",
        "        need_split[2 * split_node + 1] = True\n",
        "  return returned_split_values"
      ],
      "metadata": {
        "id": "SfH8DqnbWx-5"
      },
      "execution_count": null,
      "outputs": []
    },
    {
      "cell_type": "code",
      "source": [
        "# get splits and y_predicted results for a pruning parameter \n",
        "\n",
        "def get_splits_and_y_predicted(P):\n",
        "  value = learning_algorithm(P)\n",
        "  value = np.sort(value)\n",
        "  y_predicted = []\n",
        "  old_val = 0\n",
        "  max_X = 2.0\n",
        "\n",
        "  # sort total data and retrieve sorted X and Y values\n",
        "  total_data_sorted = training_data_set[training_data_set[:, 0].argsort()]\n",
        "  training_X_sorted = total_data_sorted[:, 0]\n",
        "  training_y_sorted = total_data_sorted[:, 1]\n",
        "\n",
        "  # for each split boundary, calculate the y_predicted value\n",
        "  for i in range(len(value) + 1):\n",
        "    this_split_val = 0\n",
        "    if i < len(value): \n",
        "      this_split_val = value[i]\n",
        "    else:\n",
        "      this_split_val = max_X\n",
        "    temp_X = training_X_sorted[training_X_sorted <= this_split_val]\n",
        "    range_values = training_y_sorted[training_X_sorted <= this_split_val]\n",
        "    range_values = range_values[temp_X > old_val]\n",
        "    sum = np.sum(range_values)\n",
        "    count = len(range_values)\n",
        "    this_val = sum / count\n",
        "    y_predicted.append(this_val)\n",
        "    old_val = this_split_val\n",
        "\n",
        "  returned = []\n",
        "  returned.append(value)\n",
        "  returned.append(y_predicted)\n",
        "  return returned"
      ],
      "metadata": {
        "id": "45q1pc7hD8go"
      },
      "execution_count": null,
      "outputs": []
    },
    {
      "cell_type": "code",
      "source": [
        "# print results for when P is 30 for training\n",
        "\n",
        "returned_val_p_is_30 = get_splits_and_y_predicted(30)\n",
        "min_value_x = 0.0\n",
        "max_value_x = 2.0\n",
        "min_value_y = -1.0\n",
        "\n",
        "# adjust required data\n",
        "splits_p_is_30 = [min_value_x]\n",
        "# retrieve data from the algorithm\n",
        "splits_p_is_30_pure = returned_val_p_is_30[0]\n",
        "splits_p_is_30 = np.append(splits_p_is_30, splits_p_is_30_pure)\n",
        "y_predicted_p_is_30 = returned_val_p_is_30[1]\n",
        "\n",
        "# set plot parameters\n",
        "x_axis_num = 9\n",
        "y_axis_num = 7\n",
        "x_axis_values = np.asarray([min_value_x + 0.25 * num for num in range(x_axis_num)]).tolist()\n",
        "y_axis_values = np.asarray([min_value_y + 0.5 * num for num in range(y_axis_num)]).tolist()\n",
        "plt.figure(figsize = (10, 4))\n",
        "plt.plot(training_X, training_y, \"b.\", markersize = 10, label = 'training')\n",
        "plt.ylabel('Signal (millivolt)')\n",
        "plt.xlabel('Time (sec)')\n",
        "plt.legend()\n",
        "\n",
        "# plot y_predicted results\n",
        "for b in range(len(y_predicted_p_is_30)):\n",
        "  if b < len(y_predicted_p_is_30) - 1:\n",
        "    plt.plot([splits_p_is_30[b], splits_p_is_30[b + 1]], [y_predicted_p_is_30[b], y_predicted_p_is_30[b]], color = 'black')\n",
        "  else: \n",
        "    plt.plot([splits_p_is_30[b], max_value_x], [y_predicted_p_is_30[b], y_predicted_p_is_30[b]], color = 'black')\n",
        "for b in range(len(splits_p_is_30) - 1):\n",
        "  plt.plot([splits_p_is_30_pure[b], splits_p_is_30_pure[b]], [y_predicted_p_is_30[b], y_predicted_p_is_30[b + 1]], \"k-\")\n",
        "\n",
        "plt.xticks(x_axis_values)\n",
        "plt.yticks(y_axis_values)\n",
        "plt.show()"
      ],
      "metadata": {
        "colab": {
          "base_uri": "https://localhost:8080/",
          "height": 283
        },
        "id": "UYXT58VbdIMd",
        "outputId": "22f3b0e7-be9b-467b-8dde-26e57e228ecd"
      },
      "execution_count": null,
      "outputs": [
        {
          "output_type": "display_data",
          "data": {
            "text/plain": [
              "<Figure size 720x288 with 1 Axes>"
            ],
            "image/png": "[encoded data removed]"
          },
          "metadata": {
            "needs_background": "light"
          }
        }
      ]
    },
    {
      "cell_type": "code",
      "source": [
        "# print results for when P is 30 for testing\n",
        "\n",
        "# set plot parameters\n",
        "x_axis_num = 9\n",
        "y_axis_num = 7\n",
        "x_axis_values = np.asarray([min_value_x + 0.25 * num for num in range(x_axis_num)]).tolist()\n",
        "y_axis_values = np.asarray([min_value_y + 0.5 * num for num in range(y_axis_num)]).tolist()\n",
        "plt.figure(figsize = (10, 4))\n",
        "plt.plot(test_X, test_y, \"r.\", markersize = 10, label = 'training')\n",
        "plt.ylabel('Signal (millivolt)')\n",
        "plt.xlabel('Time (sec)')\n",
        "plt.legend()\n",
        "\n",
        "# plot y_predicted results\n",
        "for b in range(len(y_predicted_p_is_30)):\n",
        "  if b < len(y_predicted_p_is_30) - 1:\n",
        "    plt.plot([splits_p_is_30[b], splits_p_is_30[b + 1]], [y_predicted_p_is_30[b], y_predicted_p_is_30[b]], color = 'black')\n",
        "  else: \n",
        "    plt.plot([splits_p_is_30[b], max_value_x], [y_predicted_p_is_30[b], y_predicted_p_is_30[b]], color = 'black')\n",
        "for b in range(len(splits_p_is_30) - 1):\n",
        "  plt.plot([splits_p_is_30_pure[b], splits_p_is_30_pure[b]], [y_predicted_p_is_30[b], y_predicted_p_is_30[b + 1]], \"k-\")\n",
        "\n",
        "plt.xticks(x_axis_values)\n",
        "plt.yticks(y_axis_values)\n",
        "plt.show()"
      ],
      "metadata": {
        "colab": {
          "base_uri": "https://localhost:8080/",
          "height": 283
        },
        "id": "2vaWbthmvz5Z",
        "outputId": "4647ed45-3eea-4942-fc83-0ddfdc6dc168"
      },
      "execution_count": null,
      "outputs": [
        {
          "output_type": "display_data",
          "data": {
            "text/plain": [
              "<Figure size 720x288 with 1 Axes>"
            ],
            "image/png": "[encoded data removed]"
          },
          "metadata": {
            "needs_background": "light"
          }
        }
      ]
    },
    {
      "cell_type": "code",
      "source": [
        "# method for calculating RMSE for inputs P (pruning parameter) and train/test (whichever is asked)\n",
        "\n",
        "def get_RMSE(P, test_or_train):\n",
        "\n",
        "  returned_val = get_splits_and_y_predicted(P)\n",
        "\n",
        "  # adjust required data\n",
        "  splits_val = [min_value_x]\n",
        "  # retrieve data from the algorithm\n",
        "  splits_pure = returned_val[0]\n",
        "  splits = np.append(splits_val, splits_pure)\n",
        "  y_predicted_val = returned_val[1]\n",
        "\n",
        "  # sort data\n",
        "  total_data_sorted_training = training_data_set[training_data_set[:, 0].argsort()]\n",
        "  training_X_sorted = total_data_sorted_training[:, 0]\n",
        "  training_y_sorted = total_data_sorted_training[:, 1]\n",
        "  total_data_sorted_testing = test_data_set[test_data_set[:, 0].argsort()]\n",
        "  test_y_sorted = total_data_sorted_testing[:, 1]\n",
        "\n",
        "  # retrieve necessary data\n",
        "  splits = np.append(splits, [max_value_x])\n",
        "  border_counts_testing = [np.sum((splits[b] < test_X) & (test_X <= splits[b + 1])) for b in range(len(splits) - 1)]\n",
        "  border_counts_training = [np.sum((splits[b] < training_X) & (training_X <= splits[b + 1])) for b in range(len(splits) - 1)]\n",
        "\n",
        "  # calculate rmse for test\n",
        "  sum_error_test = 0\n",
        "  columnLocation = 0\n",
        "  for i in range(len(y_predicted_val)):\n",
        "    for n in range(border_counts_testing[i]):\n",
        "      sum_error_test += (test_y_sorted[columnLocation + n] - y_predicted_val[i])**2\n",
        "    columnLocation += border_counts_testing[i]\n",
        "  rmse_regressogram_testing = math.sqrt(sum_error_test / len(test_y_sorted))\n",
        "\n",
        "  # calculate rmse for training\n",
        "  sum_error_train = 0\n",
        "  columnLocation = 0\n",
        "  for i in range(len(y_predicted_val)):\n",
        "    for n in range(border_counts_training[i]):\n",
        "      sum_error_train += (training_y_sorted[columnLocation + n] - y_predicted_val[i])**2\n",
        "    columnLocation += border_counts_training[i]\n",
        "  rmse_regressogram_training = math.sqrt(sum_error_train / len(training_y_sorted))\n",
        "\n",
        "  if test_or_train == \"train\":\n",
        "    return rmse_regressogram_training\n",
        "  return rmse_regressogram_testing"
      ],
      "metadata": {
        "id": "GYS1tSf7zfEi"
      },
      "execution_count": null,
      "outputs": []
    },
    {
      "cell_type": "code",
      "source": [
        "# calculate RMSE for when P is 30 on training and testing\n",
        "rmse_train_p_is_30 = get_RMSE(30, \"train\")\n",
        "rmse_test_p_is_30 = get_RMSE(30, \"test\")\n",
        "\n",
        "print(\"RMSE on training set is \" + str(rmse_train_p_is_30) + \" when P is 30\")\n",
        "print(\"RMSE on test set is \" + str(rmse_test_p_is_30) + \" when P is 30\")"
      ],
      "metadata": {
        "colab": {
          "base_uri": "https://localhost:8080/"
        },
        "id": "cKmq4e9bBMG6",
        "outputId": "3c493ee1-8a6b-4267-d4ae-77964ca842c4"
      },
      "execution_count": null,
      "outputs": [
        {
          "output_type": "stream",
          "name": "stdout",
          "text": [
            "RMSE on training set is 0.2881929342801884 when P is 30\n",
            "RMSE on test set is 0.22542236010134883 when P is 30\n"
          ]
        }
      ]
    },
    {
      "cell_type": "code",
      "source": [
        "# calculate RMSE for when P = 10, 15, …, 50 for train and test, plot results\n",
        "\n",
        "# initialize data structures\n",
        "rmse_results_train = []\n",
        "rmse_results_test = []\n",
        "\n",
        "# set necessary parameters\n",
        "min_p_value = 10\n",
        "repeat_val = 9\n",
        "step_size = 5\n",
        "p_values = np.asarray([min_p_value + step_size * num for num in range(repeat_val)]).tolist()\n",
        "\n",
        "# retrieve rmse values for all p values\n",
        "for p in p_values:\n",
        "  this_train = get_RMSE(p, \"train\")\n",
        "  this_test = get_RMSE(p, \"test\")\n",
        "  rmse_results_train = np.append(rmse_results_train, [this_train])\n",
        "  rmse_results_test = np.append(rmse_results_test, [this_test])\n",
        "\n",
        "# plot results\n",
        "plt.figure(figsize = (10, 4))\n",
        "plt.plot(p_values, rmse_results_train, \"b.\", markersize = 12, label = 'training')\n",
        "plt.plot(p_values, rmse_results_test, \"r.\", markersize = 12, label = 'test')\n",
        "plt.ylabel('RMSE')\n",
        "plt.xlabel('Pre-pruning size (P)')\n",
        "plt.legend()\n",
        "for b in range(len(rmse_results_train) - 1):\n",
        "  plt.plot([p_values[b], p_values[b + 1]], [rmse_results_train[b], rmse_results_train[b + 1]], color = 'blue')\n",
        "for b in range(len(rmse_results_test) - 1):\n",
        "  plt.plot([p_values[b], p_values[b + 1]], [rmse_results_test[b], rmse_results_test[b + 1]], color = 'red')"
      ],
      "metadata": {
        "colab": {
          "base_uri": "https://localhost:8080/",
          "height": 278
        },
        "id": "bijLyL8WGDeP",
        "outputId": "e73b9c02-df60-4ddf-f4e0-f31d55e3fc84"
      },
      "execution_count": null,
      "outputs": [
        {
          "output_type": "display_data",
          "data": {
            "text/plain": [
              "<Figure size 720x288 with 1 Axes>"
            ],
            "image/png": "[encoded data removed]"
          },
          "metadata": {
            "needs_background": "light"
          }
        }
      ]
    }
  ]
}